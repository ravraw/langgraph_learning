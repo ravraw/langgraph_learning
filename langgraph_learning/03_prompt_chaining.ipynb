{
 "cells": [
  {
   "metadata": {
    "collapsed": true
   },
   "cell_type": "markdown",
   "source": "## 3_prompt_chaining.ipynb",
   "id": "35e7ed3b6f15cd3d"
  },
  {
   "metadata": {
    "ExecuteTime": {
     "end_time": "2025-09-27T00:46:38.546589Z",
     "start_time": "2025-09-27T00:46:37.910599Z"
    }
   },
   "cell_type": "code",
   "source": [
    "from langgraph.graph import StateGraph, START, END\n",
    "from langchain_openai import ChatOpenAI\n",
    "from typing import TypedDict\n",
    "from dotenv import load_dotenv"
   ],
   "id": "7ed66025873f2841",
   "outputs": [],
   "execution_count": 1
  },
  {
   "metadata": {
    "ExecuteTime": {
     "end_time": "2025-09-27T00:47:00.047315Z",
     "start_time": "2025-09-27T00:46:59.847593Z"
    }
   },
   "cell_type": "code",
   "source": [
    "load_dotenv()\n",
    "\n",
    "model = ChatOpenAI()"
   ],
   "id": "59d03e4ccf99ffb",
   "outputs": [],
   "execution_count": 2
  },
  {
   "metadata": {
    "ExecuteTime": {
     "end_time": "2025-09-27T00:47:09.354919Z",
     "start_time": "2025-09-27T00:47:09.352015Z"
    }
   },
   "cell_type": "code",
   "source": [
    "class BlogState(TypedDict):\n",
    "\n",
    "    title: str\n",
    "    outline: str\n",
    "    content: str"
   ],
   "id": "a9095715d696a6ef",
   "outputs": [],
   "execution_count": 3
  },
  {
   "metadata": {
    "ExecuteTime": {
     "end_time": "2025-09-27T00:47:52.031516Z",
     "start_time": "2025-09-27T00:47:52.028754Z"
    }
   },
   "cell_type": "code",
   "source": [
    "def create_outline(state: BlogState) -> BlogState:\n",
    "\n",
    "    # fetch title\n",
    "    title = state['title']\n",
    "\n",
    "    # call llm gen outline\n",
    "    prompt = f'Generate a detailed outline for a blog on the topic - {title}'\n",
    "    outline = model.invoke(prompt).content\n",
    "\n",
    "    # update state\n",
    "    state['outline'] = outline\n",
    "\n",
    "    return state"
   ],
   "id": "abe25ea0d8f9e19e",
   "outputs": [],
   "execution_count": 4
  },
  {
   "metadata": {
    "ExecuteTime": {
     "end_time": "2025-09-27T00:48:05.426891Z",
     "start_time": "2025-09-27T00:48:05.423758Z"
    }
   },
   "cell_type": "code",
   "source": [
    "def create_blog(state: BlogState) -> BlogState:\n",
    "\n",
    "    title = state['title']\n",
    "    outline = state['outline']\n",
    "\n",
    "    prompt = f'Write a detailed blog on the title - {title} using the follwing outline \\n {outline}'\n",
    "\n",
    "    content = model.invoke(prompt).content\n",
    "\n",
    "    state['content'] = content\n",
    "\n",
    "    return state"
   ],
   "id": "1ed5e4b6c2be427",
   "outputs": [],
   "execution_count": 5
  },
  {
   "metadata": {
    "ExecuteTime": {
     "end_time": "2025-09-27T00:48:36.840382Z",
     "start_time": "2025-09-27T00:48:36.835297Z"
    }
   },
   "cell_type": "code",
   "source": [
    "graph = StateGraph(BlogState)\n",
    "\n",
    "# nodes\n",
    "graph.add_node('create_outline', create_outline)\n",
    "graph.add_node('create_blog', create_blog)\n",
    "\n",
    "# edges\n",
    "graph.add_edge(START, 'create_outline')\n",
    "graph.add_edge('create_outline', 'create_blog')\n",
    "graph.add_edge('create_blog', END)\n",
    "\n",
    "workflow = graph.compile()"
   ],
   "id": "446f37cb634e4f46",
   "outputs": [],
   "execution_count": 7
  },
  {
   "metadata": {
    "ExecuteTime": {
     "end_time": "2025-09-27T00:49:53.104651Z",
     "start_time": "2025-09-27T00:49:43.585551Z"
    }
   },
   "cell_type": "code",
   "source": [
    "intial_state = {'title': 'transitioning from being a Software Developer to An Applied GenAI Engineer'}\n",
    "\n",
    "final_state = workflow.invoke(intial_state)\n",
    "\n",
    "print(final_state)"
   ],
   "id": "119d193d45481a50",
   "outputs": [
    {
     "name": "stdout",
     "output_type": "stream",
     "text": [
      "{'title': 'transitioning from being a Software Developer to An Applied GenAI Engineer', 'outline': 'I. Introduction\\n    A. Define the roles of a Software Developer and Applied GenAI Engineer\\n    B. Discuss the growing field of Artificial Intelligence and its impact on various industries\\n    C. Introduce the topic of transitioning from a Software Developer to an Applied GenAI Engineer\\n\\nII. Understanding the role of a Software Developer\\n    A. Characteristics and skills needed for a successful career as a Software Developer\\n    B. Overview of typical tasks and responsibilities of a Software Developer\\n    C. Discuss the importance of continuous learning and staying updated on latest technologies\\n\\nIII. Exploring the field of Artificial Intelligence\\n    A. What is Artificial Intelligence and its applications in various industries\\n    B. Introduction to the concept of Applied GenAI and its importance in solving real-world problems\\n    C. Highlight the demand for skilled professionals in the field of Applied GenAI\\n\\nIV. Transitioning from Software Developer to Applied GenAI Engineer\\n    A. Assessing your current skills and identifying areas for improvement\\n    B. Understanding the differences between software development and Applied GenAI engineering\\n    C. Tips for acquiring new skills and knowledge in the field of Artificial Intelligence\\n    D. Discuss the importance of practical experience and hands-on projects\\n\\nV. Tools and technologies used in Applied GenAI engineering\\n    A. Overview of popular programming languages and frameworks used in Applied GenAI\\n    B. Introduction to machine learning and deep learning concepts\\n    C. Importance of data preprocessing and feature engineering in Applied GenAI projects\\n\\nVI. Building a career as an Applied GenAI Engineer\\n    A. Finding job opportunities in the field of Artificial Intelligence\\n    B. Networking and building connections with industry professionals\\n    C. Tips for creating a strong resume and portfolio showcasing your skills in Applied GenAI\\n    D. Continuing education and professional development in the field of Artificial Intelligence\\n\\nVII. Conclusion\\n    A. Recap of the key points discussed in the blog\\n    B. Emphasize the importance of staying adaptable and open to learning new skills\\n    C. Encourage readers to consider transitioning to a career in Applied GenAI engineering and make a positive impact in the field of Artificial Intelligence', 'content': 'I. Introduction\\n\\nA. Software developers are responsible for creating and maintaining software applications, while Applied GenAI Engineers focus on utilizing Artificial Intelligence to solve real-world problems.\\n\\nB. Artificial Intelligence is revolutionizing various industries by automating processes, enhancing decision-making, and improving efficiency.\\n\\nC. Transitioning from a Software Developer to an Applied GenAI Engineer allows for the opportunity to work at the forefront of AI innovation and make a significant impact in the field.\\n\\nII. Understanding the role of a Software Developer\\n\\nA. Successful software developers possess strong problem-solving skills, programming proficiency, and a keen attention to detail.\\n\\nB. Typical tasks include software design, coding, testing, debugging, and collaborating with other team members to develop solutions.\\n\\nC. Continuous learning and staying updated on the latest technologies is essential for career growth and success in the field of software development.\\n\\nIII. Exploring the field of Artificial Intelligence\\n\\nA. Artificial Intelligence involves the development of intelligent machines that can perform tasks typically requiring human intelligence, such as learning, problem-solving, and decision-making.\\n\\nB. Applied GenAI focuses on utilizing AI techniques to address specific challenges in various industries, such as healthcare, finance, retail, and transportation.\\n\\nC. The demand for skilled professionals in Applied GenAI is rapidly increasing as organizations seek to leverage AI technologies for competitive advantage.\\n\\nIV. Transitioning from Software Developer to Applied GenAI Engineer\\n\\nA. Assessing current skills and identifying areas for improvement is crucial when transitioning to a career in Applied GenAI.\\n\\nB. Understanding the differences between software development and Applied GenAI engineering, such as the emphasis on machine learning, neural networks, and data analysis.\\n\\nC. Acquiring new skills and knowledge in AI through online courses, certification programs, and hands-on projects is essential for success in the field.\\n\\nD. Practical experience and working on AI projects can help build a strong portfolio and showcase expertise in Applied GenAI.\\n\\nV. Tools and technologies used in Applied GenAI engineering\\n\\nA. Popular programming languages and frameworks in Applied GenAI include Python, TensorFlow, PyTorch, and scikit-learn.\\n\\nB. Machine learning and deep learning concepts play a crucial role in developing AI models for various applications.\\n\\nC. Data preprocessing and feature engineering are essential steps in preparing data for AI algorithms and improving model performance.\\n\\nVI. Building a career as an Applied GenAI Engineer\\n\\nA. Job opportunities in the field of Applied GenAI can be found in tech companies, research institutions, healthcare organizations, and financial services firms.\\n\\nB. Networking with industry professionals, attending AI conferences, and participating in online communities can help build connections and learn from experts in the field.\\n\\nC. Creating a strong resume and portfolio that showcases AI projects, certifications, and relevant experience can increase chances of landing a job in Applied GenAI.\\n\\nD. Continuing education, staying updated on AI trends, and pursuing advanced certifications can help advance a career in Applied GenAI and remain competitive in the field.\\n\\nVII. Conclusion\\n\\nA. Transitioning from a Software Developer to an Applied GenAI Engineer opens up exciting opportunities to work on cutting-edge AI projects and contribute to innovation in various industries.\\n\\nB. Staying adaptable, open to learning new skills, and embracing challenges are key factors for success in the field of Applied GenAI engineering.\\n\\nC. Readers are encouraged to consider a career transition to Applied GenAI and make a positive impact in the fast-growing field of Artificial Intelligence.'}\n"
     ]
    }
   ],
   "execution_count": 8
  },
  {
   "metadata": {
    "ExecuteTime": {
     "end_time": "2025-09-27T00:50:40.939582Z",
     "start_time": "2025-09-27T00:50:40.937339Z"
    }
   },
   "cell_type": "code",
   "source": "print(final_state['outline'])",
   "id": "7435944ac9e6042f",
   "outputs": [
    {
     "name": "stdout",
     "output_type": "stream",
     "text": [
      "I. Introduction\n",
      "    A. Define the roles of a Software Developer and Applied GenAI Engineer\n",
      "    B. Discuss the growing field of Artificial Intelligence and its impact on various industries\n",
      "    C. Introduce the topic of transitioning from a Software Developer to an Applied GenAI Engineer\n",
      "\n",
      "II. Understanding the role of a Software Developer\n",
      "    A. Characteristics and skills needed for a successful career as a Software Developer\n",
      "    B. Overview of typical tasks and responsibilities of a Software Developer\n",
      "    C. Discuss the importance of continuous learning and staying updated on latest technologies\n",
      "\n",
      "III. Exploring the field of Artificial Intelligence\n",
      "    A. What is Artificial Intelligence and its applications in various industries\n",
      "    B. Introduction to the concept of Applied GenAI and its importance in solving real-world problems\n",
      "    C. Highlight the demand for skilled professionals in the field of Applied GenAI\n",
      "\n",
      "IV. Transitioning from Software Developer to Applied GenAI Engineer\n",
      "    A. Assessing your current skills and identifying areas for improvement\n",
      "    B. Understanding the differences between software development and Applied GenAI engineering\n",
      "    C. Tips for acquiring new skills and knowledge in the field of Artificial Intelligence\n",
      "    D. Discuss the importance of practical experience and hands-on projects\n",
      "\n",
      "V. Tools and technologies used in Applied GenAI engineering\n",
      "    A. Overview of popular programming languages and frameworks used in Applied GenAI\n",
      "    B. Introduction to machine learning and deep learning concepts\n",
      "    C. Importance of data preprocessing and feature engineering in Applied GenAI projects\n",
      "\n",
      "VI. Building a career as an Applied GenAI Engineer\n",
      "    A. Finding job opportunities in the field of Artificial Intelligence\n",
      "    B. Networking and building connections with industry professionals\n",
      "    C. Tips for creating a strong resume and portfolio showcasing your skills in Applied GenAI\n",
      "    D. Continuing education and professional development in the field of Artificial Intelligence\n",
      "\n",
      "VII. Conclusion\n",
      "    A. Recap of the key points discussed in the blog\n",
      "    B. Emphasize the importance of staying adaptable and open to learning new skills\n",
      "    C. Encourage readers to consider transitioning to a career in Applied GenAI engineering and make a positive impact in the field of Artificial Intelligence\n"
     ]
    }
   ],
   "execution_count": 9
  },
  {
   "metadata": {
    "ExecuteTime": {
     "end_time": "2025-09-27T00:52:04.006676Z",
     "start_time": "2025-09-27T00:52:04.004701Z"
    }
   },
   "cell_type": "code",
   "source": "print(final_state['content'])",
   "id": "d2985495de053192",
   "outputs": [
    {
     "name": "stdout",
     "output_type": "stream",
     "text": [
      "I. Introduction\n",
      "\n",
      "A. Software developers are responsible for creating and maintaining software applications, while Applied GenAI Engineers focus on utilizing Artificial Intelligence to solve real-world problems.\n",
      "\n",
      "B. Artificial Intelligence is revolutionizing various industries by automating processes, enhancing decision-making, and improving efficiency.\n",
      "\n",
      "C. Transitioning from a Software Developer to an Applied GenAI Engineer allows for the opportunity to work at the forefront of AI innovation and make a significant impact in the field.\n",
      "\n",
      "II. Understanding the role of a Software Developer\n",
      "\n",
      "A. Successful software developers possess strong problem-solving skills, programming proficiency, and a keen attention to detail.\n",
      "\n",
      "B. Typical tasks include software design, coding, testing, debugging, and collaborating with other team members to develop solutions.\n",
      "\n",
      "C. Continuous learning and staying updated on the latest technologies is essential for career growth and success in the field of software development.\n",
      "\n",
      "III. Exploring the field of Artificial Intelligence\n",
      "\n",
      "A. Artificial Intelligence involves the development of intelligent machines that can perform tasks typically requiring human intelligence, such as learning, problem-solving, and decision-making.\n",
      "\n",
      "B. Applied GenAI focuses on utilizing AI techniques to address specific challenges in various industries, such as healthcare, finance, retail, and transportation.\n",
      "\n",
      "C. The demand for skilled professionals in Applied GenAI is rapidly increasing as organizations seek to leverage AI technologies for competitive advantage.\n",
      "\n",
      "IV. Transitioning from Software Developer to Applied GenAI Engineer\n",
      "\n",
      "A. Assessing current skills and identifying areas for improvement is crucial when transitioning to a career in Applied GenAI.\n",
      "\n",
      "B. Understanding the differences between software development and Applied GenAI engineering, such as the emphasis on machine learning, neural networks, and data analysis.\n",
      "\n",
      "C. Acquiring new skills and knowledge in AI through online courses, certification programs, and hands-on projects is essential for success in the field.\n",
      "\n",
      "D. Practical experience and working on AI projects can help build a strong portfolio and showcase expertise in Applied GenAI.\n",
      "\n",
      "V. Tools and technologies used in Applied GenAI engineering\n",
      "\n",
      "A. Popular programming languages and frameworks in Applied GenAI include Python, TensorFlow, PyTorch, and scikit-learn.\n",
      "\n",
      "B. Machine learning and deep learning concepts play a crucial role in developing AI models for various applications.\n",
      "\n",
      "C. Data preprocessing and feature engineering are essential steps in preparing data for AI algorithms and improving model performance.\n",
      "\n",
      "VI. Building a career as an Applied GenAI Engineer\n",
      "\n",
      "A. Job opportunities in the field of Applied GenAI can be found in tech companies, research institutions, healthcare organizations, and financial services firms.\n",
      "\n",
      "B. Networking with industry professionals, attending AI conferences, and participating in online communities can help build connections and learn from experts in the field.\n",
      "\n",
      "C. Creating a strong resume and portfolio that showcases AI projects, certifications, and relevant experience can increase chances of landing a job in Applied GenAI.\n",
      "\n",
      "D. Continuing education, staying updated on AI trends, and pursuing advanced certifications can help advance a career in Applied GenAI and remain competitive in the field.\n",
      "\n",
      "VII. Conclusion\n",
      "\n",
      "A. Transitioning from a Software Developer to an Applied GenAI Engineer opens up exciting opportunities to work on cutting-edge AI projects and contribute to innovation in various industries.\n",
      "\n",
      "B. Staying adaptable, open to learning new skills, and embracing challenges are key factors for success in the field of Applied GenAI engineering.\n",
      "\n",
      "C. Readers are encouraged to consider a career transition to Applied GenAI and make a positive impact in the fast-growing field of Artificial Intelligence.\n"
     ]
    }
   ],
   "execution_count": 10
  },
  {
   "metadata": {},
   "cell_type": "code",
   "outputs": [],
   "execution_count": null,
   "source": "",
   "id": "c445df01ff4ddf36"
  }
 ],
 "metadata": {
  "kernelspec": {
   "display_name": "Python 3",
   "language": "python",
   "name": "python3"
  },
  "language_info": {
   "codemirror_mode": {
    "name": "ipython",
    "version": 2
   },
   "file_extension": ".py",
   "mimetype": "text/x-python",
   "name": "python",
   "nbconvert_exporter": "python",
   "pygments_lexer": "ipython2",
   "version": "2.7.6"
  }
 },
 "nbformat": 4,
 "nbformat_minor": 5
}
