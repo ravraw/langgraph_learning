{
 "cells": [
  {
   "metadata": {
    "collapsed": true
   },
   "cell_type": "markdown",
   "source": "## 3_prompt_chaining.ipynb",
   "id": "35e7ed3b6f15cd3d"
  },
  {
   "metadata": {
    "ExecuteTime": {
     "end_time": "2025-09-27T00:57:42.368171Z",
     "start_time": "2025-09-27T00:57:42.075804Z"
    }
   },
   "cell_type": "code",
   "source": [
    "from langgraph.graph import StateGraph, START, END\n",
    "from langchain_openai import ChatOpenAI\n",
    "from typing import TypedDict\n",
    "from dotenv import load_dotenv"
   ],
   "id": "7ed66025873f2841",
   "outputs": [],
   "execution_count": 1
  },
  {
   "metadata": {
    "ExecuteTime": {
     "end_time": "2025-09-27T00:57:42.477402Z",
     "start_time": "2025-09-27T00:57:42.371134Z"
    }
   },
   "cell_type": "code",
   "source": [
    "load_dotenv()\n",
    "\n",
    "model = ChatOpenAI()"
   ],
   "id": "59d03e4ccf99ffb",
   "outputs": [],
   "execution_count": 2
  },
  {
   "metadata": {
    "ExecuteTime": {
     "end_time": "2025-09-27T00:57:42.481392Z",
     "start_time": "2025-09-27T00:57:42.479993Z"
    }
   },
   "cell_type": "code",
   "source": [
    "class BlogState(TypedDict):\n",
    "\n",
    "    title: str\n",
    "    outline: str\n",
    "    content: str"
   ],
   "id": "a9095715d696a6ef",
   "outputs": [],
   "execution_count": 3
  },
  {
   "metadata": {
    "ExecuteTime": {
     "end_time": "2025-09-27T00:57:42.484928Z",
     "start_time": "2025-09-27T00:57:42.483421Z"
    }
   },
   "cell_type": "code",
   "source": [
    "def create_outline(state: BlogState) -> BlogState:\n",
    "\n",
    "    # fetch title\n",
    "    title = state['title']\n",
    "\n",
    "    # call llm gen outline\n",
    "    prompt = f'Generate a detailed outline for a blog on the topic - {title}'\n",
    "    outline = model.invoke(prompt).content\n",
    "\n",
    "    # update state\n",
    "    state['outline'] = outline\n",
    "\n",
    "    return state"
   ],
   "id": "abe25ea0d8f9e19e",
   "outputs": [],
   "execution_count": 4
  },
  {
   "metadata": {
    "ExecuteTime": {
     "end_time": "2025-09-27T00:57:42.488281Z",
     "start_time": "2025-09-27T00:57:42.486794Z"
    }
   },
   "cell_type": "code",
   "source": [
    "def create_blog(state: BlogState) -> BlogState:\n",
    "\n",
    "    title = state['title']\n",
    "    outline = state['outline']\n",
    "\n",
    "    prompt = f'Write a detailed blog on the title - {title} using the follwing outline \\n {outline}'\n",
    "\n",
    "    content = model.invoke(prompt).content\n",
    "\n",
    "    state['content'] = content\n",
    "\n",
    "    return state"
   ],
   "id": "1ed5e4b6c2be427",
   "outputs": [],
   "execution_count": 5
  },
  {
   "metadata": {
    "ExecuteTime": {
     "end_time": "2025-09-27T00:57:42.492552Z",
     "start_time": "2025-09-27T00:57:42.490196Z"
    }
   },
   "cell_type": "code",
   "source": [
    "graph = StateGraph(BlogState)\n",
    "\n",
    "# nodes\n",
    "graph.add_node('create_outline', create_outline)\n",
    "graph.add_node('create_blog', create_blog)\n",
    "\n",
    "# edges\n",
    "graph.add_edge(START, 'create_outline')\n",
    "graph.add_edge('create_outline', 'create_blog')\n",
    "graph.add_edge('create_blog', END)\n",
    "\n",
    "workflow = graph.compile()"
   ],
   "id": "446f37cb634e4f46",
   "outputs": [],
   "execution_count": 6
  },
  {
   "metadata": {
    "ExecuteTime": {
     "end_time": "2025-09-27T00:57:49.999947Z",
     "start_time": "2025-09-27T00:57:42.494338Z"
    }
   },
   "cell_type": "code",
   "source": [
    "intial_state = {'title': 'transitioning from being a Software Developer to An Applied GenAI Engineer'}\n",
    "\n",
    "final_state = workflow.invoke(intial_state)\n",
    "\n",
    "print(final_state)"
   ],
   "id": "119d193d45481a50",
   "outputs": [
    {
     "name": "stdout",
     "output_type": "stream",
     "text": [
      "{'title': 'transitioning from being a Software Developer to An Applied GenAI Engineer', 'outline': 'I. Introduction\\n    A. Brief overview of the rise of Artificial Intelligence in various industries\\n    B. Explanation of the role of an Applied GenAI Engineer\\n    C. Transition from Software Developer to Applied GenAI Engineer: Challenges and opportunities\\n\\nII. Understanding the basics of Artificial Intelligence and GenAI\\n    A. Definition and scope of Artificial Intelligence\\n    B. Introduction to GenAI and its applications\\n    C. Key differences between traditional software development and GenAI engineering\\n\\nIII. Developing the necessary skills for a career in GenAI engineering\\n    A. Understanding machine learning algorithms and frameworks\\n    B. Familiarity with neural networks and deep learning\\n    C. Proficiency in programming languages such as Python and R\\n    D. Knowledge of data engineering and data science concepts\\n\\nIV. Tools and technologies in the GenAI ecosystem\\n    A. Overview of popular AI tools and libraries\\n    B. Introduction to cloud platforms for AI development and deployment\\n    C. Understanding the role of data preprocessing and feature engineering in GenAI projects\\n\\nV. Hands-on experience and practical projects\\n    A. Importance of building a strong portfolio of GenAI projects\\n    B. Exploring open-source datasets for experimentation and learning\\n    C. Collaborating with other AI enthusiasts and researchers in the field\\n\\nVI. Networking and career opportunities for Applied GenAI Engineers\\n    A. Attending industry events and conferences to stay updated on the latest trends\\n    B. Joining AI communities and online forums for networking and knowledge sharing\\n    C. Exploring job opportunities in AI startups, tech companies, and research institutions\\n\\nVII. Conclusion\\n    A. Recap of the transition from Software Developer to Applied GenAI Engineer\\n    B. Encouragement to continue learning and growing in the field of Artificial Intelligence\\n    C. Closing thoughts on the future of GenAI engineering and its impact on society', 'content': \"\\n\\nI. Introduction\\n\\nArtificial Intelligence (AI) has become increasingly pervasive across various industries in recent years, with the potential to revolutionize how we interact with technology and data. One key role that has emerged in this landscape is that of an Applied GenAI Engineer - a professional who combines software development skills with a deep understanding of AI technologies to create innovative solutions. In this blog, we will explore the transition from being a Software Developer to an Applied GenAI Engineer, including the challenges and opportunities that come with this change.\\n\\nII. Understanding the basics of Artificial Intelligence and GenAI\\n\\nArtificial Intelligence refers to the simulation of human intelligence processes by machines, including learning, reasoning, and self-correction. GenAI, on the other hand, refers to the application of AI technologies in various domains, such as healthcare, finance, and robotics. The key difference between traditional software development and GenAI engineering lies in the focus on building models that can learn from data and make decisions autonomously.\\n\\nIII. Developing the necessary skills for a career in GenAI engineering\\n\\nTo transition into a career as an Applied GenAI Engineer, individuals need to acquire a range of skills, including an understanding of machine learning algorithms and frameworks, familiarity with neural networks and deep learning, proficiency in programming languages such as Python and R, and knowledge of data engineering and data science concepts.\\n\\nIV. Tools and technologies in the GenAI ecosystem\\n\\nIn the GenAI ecosystem, there are a variety of tools and technologies that engineers use to develop AI solutions. This includes popular AI libraries like TensorFlow and PyTorch, cloud platforms for AI development and deployment, and techniques like data preprocessing and feature engineering to enhance model performance.\\n\\nV. Hands-on experience and practical projects\\n\\nBuilding a strong portfolio of GenAI projects is essential for demonstrating expertise in the field. Engineers can explore open-source datasets for experimentation and learning, collaborate with other AI enthusiasts and researchers, and work on real-world problems to hone their skills.\\n\\nVI. Networking and career opportunities for Applied GenAI Engineers\\n\\nAttending industry events and conferences, joining AI communities, and exploring job opportunities in AI startups, tech companies, and research institutions are important steps for advancing a career in GenAI engineering. Networking with professionals in the field can lead to new opportunities and collaborations that can further one's career.\\n\\nVII. Conclusion\\n\\nIn conclusion, transitioning from being a Software Developer to an Applied GenAI Engineer requires dedication, ongoing learning, and a passion for innovation. The future of GenAI engineering is bright, and professionals in this field have the opportunity to make a significant impact on society. By continuing to grow and adapt to the changing landscape of AI technologies, individuals can thrive in this exciting and dynamic field.\"}\n"
     ]
    }
   ],
   "execution_count": 7
  },
  {
   "metadata": {
    "ExecuteTime": {
     "end_time": "2025-09-27T00:57:50.018345Z",
     "start_time": "2025-09-27T00:57:50.015509Z"
    }
   },
   "cell_type": "code",
   "source": "print(final_state['outline'])",
   "id": "7435944ac9e6042f",
   "outputs": [
    {
     "name": "stdout",
     "output_type": "stream",
     "text": [
      "I. Introduction\n",
      "    A. Brief overview of the rise of Artificial Intelligence in various industries\n",
      "    B. Explanation of the role of an Applied GenAI Engineer\n",
      "    C. Transition from Software Developer to Applied GenAI Engineer: Challenges and opportunities\n",
      "\n",
      "II. Understanding the basics of Artificial Intelligence and GenAI\n",
      "    A. Definition and scope of Artificial Intelligence\n",
      "    B. Introduction to GenAI and its applications\n",
      "    C. Key differences between traditional software development and GenAI engineering\n",
      "\n",
      "III. Developing the necessary skills for a career in GenAI engineering\n",
      "    A. Understanding machine learning algorithms and frameworks\n",
      "    B. Familiarity with neural networks and deep learning\n",
      "    C. Proficiency in programming languages such as Python and R\n",
      "    D. Knowledge of data engineering and data science concepts\n",
      "\n",
      "IV. Tools and technologies in the GenAI ecosystem\n",
      "    A. Overview of popular AI tools and libraries\n",
      "    B. Introduction to cloud platforms for AI development and deployment\n",
      "    C. Understanding the role of data preprocessing and feature engineering in GenAI projects\n",
      "\n",
      "V. Hands-on experience and practical projects\n",
      "    A. Importance of building a strong portfolio of GenAI projects\n",
      "    B. Exploring open-source datasets for experimentation and learning\n",
      "    C. Collaborating with other AI enthusiasts and researchers in the field\n",
      "\n",
      "VI. Networking and career opportunities for Applied GenAI Engineers\n",
      "    A. Attending industry events and conferences to stay updated on the latest trends\n",
      "    B. Joining AI communities and online forums for networking and knowledge sharing\n",
      "    C. Exploring job opportunities in AI startups, tech companies, and research institutions\n",
      "\n",
      "VII. Conclusion\n",
      "    A. Recap of the transition from Software Developer to Applied GenAI Engineer\n",
      "    B. Encouragement to continue learning and growing in the field of Artificial Intelligence\n",
      "    C. Closing thoughts on the future of GenAI engineering and its impact on society\n"
     ]
    }
   ],
   "execution_count": 8
  },
  {
   "metadata": {
    "ExecuteTime": {
     "end_time": "2025-09-27T00:57:50.037169Z",
     "start_time": "2025-09-27T00:57:50.035010Z"
    }
   },
   "cell_type": "code",
   "source": "print(final_state['content'])",
   "id": "d2985495de053192",
   "outputs": [
    {
     "name": "stdout",
     "output_type": "stream",
     "text": [
      "\n",
      "\n",
      "I. Introduction\n",
      "\n",
      "Artificial Intelligence (AI) has become increasingly pervasive across various industries in recent years, with the potential to revolutionize how we interact with technology and data. One key role that has emerged in this landscape is that of an Applied GenAI Engineer - a professional who combines software development skills with a deep understanding of AI technologies to create innovative solutions. In this blog, we will explore the transition from being a Software Developer to an Applied GenAI Engineer, including the challenges and opportunities that come with this change.\n",
      "\n",
      "II. Understanding the basics of Artificial Intelligence and GenAI\n",
      "\n",
      "Artificial Intelligence refers to the simulation of human intelligence processes by machines, including learning, reasoning, and self-correction. GenAI, on the other hand, refers to the application of AI technologies in various domains, such as healthcare, finance, and robotics. The key difference between traditional software development and GenAI engineering lies in the focus on building models that can learn from data and make decisions autonomously.\n",
      "\n",
      "III. Developing the necessary skills for a career in GenAI engineering\n",
      "\n",
      "To transition into a career as an Applied GenAI Engineer, individuals need to acquire a range of skills, including an understanding of machine learning algorithms and frameworks, familiarity with neural networks and deep learning, proficiency in programming languages such as Python and R, and knowledge of data engineering and data science concepts.\n",
      "\n",
      "IV. Tools and technologies in the GenAI ecosystem\n",
      "\n",
      "In the GenAI ecosystem, there are a variety of tools and technologies that engineers use to develop AI solutions. This includes popular AI libraries like TensorFlow and PyTorch, cloud platforms for AI development and deployment, and techniques like data preprocessing and feature engineering to enhance model performance.\n",
      "\n",
      "V. Hands-on experience and practical projects\n",
      "\n",
      "Building a strong portfolio of GenAI projects is essential for demonstrating expertise in the field. Engineers can explore open-source datasets for experimentation and learning, collaborate with other AI enthusiasts and researchers, and work on real-world problems to hone their skills.\n",
      "\n",
      "VI. Networking and career opportunities for Applied GenAI Engineers\n",
      "\n",
      "Attending industry events and conferences, joining AI communities, and exploring job opportunities in AI startups, tech companies, and research institutions are important steps for advancing a career in GenAI engineering. Networking with professionals in the field can lead to new opportunities and collaborations that can further one's career.\n",
      "\n",
      "VII. Conclusion\n",
      "\n",
      "In conclusion, transitioning from being a Software Developer to an Applied GenAI Engineer requires dedication, ongoing learning, and a passion for innovation. The future of GenAI engineering is bright, and professionals in this field have the opportunity to make a significant impact on society. By continuing to grow and adapt to the changing landscape of AI technologies, individuals can thrive in this exciting and dynamic field.\n"
     ]
    }
   ],
   "execution_count": 9
  },
  {
   "metadata": {
    "ExecuteTime": {
     "end_time": "2025-09-27T00:57:50.372493Z",
     "start_time": "2025-09-27T00:57:50.053813Z"
    }
   },
   "cell_type": "code",
   "source": [
    "from IPython.display import Image\n",
    "\n",
    "Image(workflow.get_graph().draw_mermaid_png())"
   ],
   "id": "c445df01ff4ddf36",
   "outputs": [
    {
     "data": {
      "image/png": "[encoded data removed]",
      "text/plain": [
       "<IPython.core.display.Image object>"
      ]
     },
     "execution_count": 10,
     "metadata": {},
     "output_type": "execute_result"
    }
   ],
   "execution_count": 10
  }
 ],
 "metadata": {
  "kernelspec": {
   "display_name": "Python 3",
   "language": "python",
   "name": "python3"
  },
  "language_info": {
   "codemirror_mode": {
    "name": "ipython",
    "version": 2
   },
   "file_extension": ".py",
   "mimetype": "text/x-python",
   "name": "python",
   "nbconvert_exporter": "python",
   "pygments_lexer": "ipython2",
   "version": "2.7.6"
  }
 },
 "nbformat": 4,
 "nbformat_minor": 5
}
