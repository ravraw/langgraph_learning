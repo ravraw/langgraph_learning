{
 "cells": [
  {
   "metadata": {
    "ExecuteTime": {
     "end_time": "2025-09-26T00:45:48.073816Z",
     "start_time": "2025-09-26T00:45:48.072019Z"
    }
   },
   "cell_type": "markdown",
   "source": [
    "## BMI Calculator Workflow\n",
    "\n",
    "For Reference -> https://www.calculatorsoup.com/calculators/health/bmi-calculator.php"
   ],
   "id": "b99fbeeb74e91f2a"
  },
  {
   "metadata": {
    "collapsed": true,
    "ExecuteTime": {
     "end_time": "2025-09-26T00:45:56.932881Z",
     "start_time": "2025-09-26T00:45:56.931240Z"
    }
   },
   "cell_type": "code",
   "source": [
    "from langgraph.graph import StateGraph, START, END\n",
    "from typing import TypedDict"
   ],
   "id": "8a36ddfe3c4fd283",
   "outputs": [],
   "execution_count": 11
  },
  {
   "metadata": {
    "ExecuteTime": {
     "end_time": "2025-09-26T00:37:43.273839Z",
     "start_time": "2025-09-26T00:37:43.272376Z"
    }
   },
   "cell_type": "code",
   "source": [
    "# define state\n",
    "class BMIState(TypedDict):\n",
    "    weight_pounds:int\n",
    "    height_inches:int\n",
    "    bmi:float\n",
    "    category:str\n"
   ],
   "id": "95961375375c54ef",
   "outputs": [],
   "execution_count": 2
  },
  {
   "metadata": {
    "ExecuteTime": {
     "end_time": "2025-09-26T00:37:43.277659Z",
     "start_time": "2025-09-26T00:37:43.276200Z"
    }
   },
   "cell_type": "code",
   "source": [
    "def calculate_bmi(state: BMIState) -> BMIState:\n",
    "\n",
    "    weight = state['weight_pounds']\n",
    "    height = state['height_inches']\n",
    "\n",
    "    bmi = weight/(height**2)*703\n",
    "\n",
    "    state['bmi'] = round(bmi, 2)\n",
    "\n",
    "    return state"
   ],
   "id": "3bded6c74313a6bb",
   "outputs": [],
   "execution_count": 3
  },
  {
   "metadata": {
    "ExecuteTime": {
     "end_time": "2025-09-26T00:37:43.280938Z",
     "start_time": "2025-09-26T00:37:43.279365Z"
    }
   },
   "cell_type": "code",
   "source": [
    "def label_bmi(state: BMIState) -> BMIState:\n",
    "\n",
    "    bmi = state['bmi']\n",
    "\n",
    "    if bmi < 18.5:\n",
    "        state[\"category\"] = \"Underweight\"\n",
    "    elif 18.5 <= bmi < 25:\n",
    "        state[\"category\"] = \"Normal\"\n",
    "    elif 25 <= bmi < 30:\n",
    "        state[\"category\"] = \"Overweight\"\n",
    "    else:\n",
    "        state[\"category\"] = \"Obese\"\n",
    "\n",
    "    return state"
   ],
   "id": "d49aefa0ad5b2dd3",
   "outputs": [],
   "execution_count": 4
  },
  {
   "metadata": {
    "ExecuteTime": {
     "end_time": "2025-09-26T00:37:43.284934Z",
     "start_time": "2025-09-26T00:37:43.282462Z"
    }
   },
   "cell_type": "code",
   "source": [
    "# define your graph\n",
    "graph = StateGraph(BMIState)\n",
    "\n",
    "# add nodes to your graph\n",
    "graph.add_node('calculate_bmi', calculate_bmi)\n",
    "graph.add_node('label_bmi', label_bmi)\n",
    "\n",
    "# add edges to your graph\n",
    "graph.add_edge(START, 'calculate_bmi')\n",
    "graph.add_edge('calculate_bmi', 'label_bmi')\n",
    "graph.add_edge('label_bmi', END)\n",
    "\n",
    "# compile the graph\n",
    "workflow = graph.compile()\n"
   ],
   "id": "eaa0c8ea73e178ae",
   "outputs": [],
   "execution_count": 5
  },
  {
   "metadata": {
    "ExecuteTime": {
     "end_time": "2025-09-26T00:37:43.289337Z",
     "start_time": "2025-09-26T00:37:43.286410Z"
    }
   },
   "cell_type": "code",
   "source": [
    "# execute the graph\n",
    "intial_state = {'weight_pounds':170, 'height_inches':70}\n",
    "\n",
    "final_state = workflow.invoke(intial_state)\n",
    "\n",
    "print(final_state)"
   ],
   "id": "11c0503f5bf59dca",
   "outputs": [
    {
     "name": "stdout",
     "output_type": "stream",
     "text": [
      "{'weight_pounds': 170, 'height_inches': 70, 'bmi': 24.39, 'category': 'Normal'}\n"
     ]
    }
   ],
   "execution_count": 6
  },
  {
   "metadata": {
    "ExecuteTime": {
     "end_time": "2025-09-26T00:37:44.109432Z",
     "start_time": "2025-09-26T00:37:43.292807Z"
    }
   },
   "cell_type": "code",
   "source": [
    "from IPython.display import Image\n",
    "Image(workflow.get_graph().draw_mermaid_png())"
   ],
   "id": "a89181b5a3ff689c",
   "outputs": [
    {
     "data": {
      "image/png": "[encoded data removed]",
      "text/plain": [
       "<IPython.core.display.Image object>"
      ]
     },
     "execution_count": 7,
     "metadata": {},
     "output_type": "execute_result"
    }
   ],
   "execution_count": 7
  }
 ],
 "metadata": {
  "kernelspec": {
   "display_name": "Python 3",
   "language": "python",
   "name": "python3"
  },
  "language_info": {
   "codemirror_mode": {
    "name": "ipython",
    "version": 2
   },
   "file_extension": ".py",
   "mimetype": "text/x-python",
   "name": "python",
   "nbconvert_exporter": "python",
   "pygments_lexer": "ipython2",
   "version": "2.7.6"
  }
 },
 "nbformat": 4,
 "nbformat_minor": 5
}
