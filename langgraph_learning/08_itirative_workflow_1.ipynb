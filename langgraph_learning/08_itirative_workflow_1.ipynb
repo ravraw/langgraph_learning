{
 "cells": [
  {
   "metadata": {
    "collapsed": true
   },
   "cell_type": "markdown",
   "source": "## Social Media Post generator",
   "id": "812031ec4a748b5b"
  },
  {
   "metadata": {
    "ExecuteTime": {
     "end_time": "2025-09-29T00:30:07.279751Z",
     "start_time": "2025-09-29T00:30:06.987479Z"
    }
   },
   "cell_type": "code",
   "source": [
    "from langgraph.graph import StateGraph,START, END\n",
    "from typing import TypedDict, Literal, Annotated\n",
    "from langchain_openai import ChatOpenAI\n",
    "from langchain_core.messages import SystemMessage, HumanMessage\n",
    "from dotenv import load_dotenv\n",
    "import operator"
   ],
   "id": "c40211cdb6f05c43",
   "outputs": [],
   "execution_count": 1
  },
  {
   "metadata": {
    "ExecuteTime": {
     "end_time": "2025-09-29T00:30:07.289248Z",
     "start_time": "2025-09-29T00:30:07.286366Z"
    }
   },
   "cell_type": "code",
   "source": "load_dotenv()",
   "id": "fcb3d1dc3ff8a7a1",
   "outputs": [
    {
     "data": {
      "text/plain": [
       "True"
      ]
     },
     "execution_count": 2,
     "metadata": {},
     "output_type": "execute_result"
    }
   ],
   "execution_count": 2
  },
  {
   "metadata": {
    "ExecuteTime": {
     "end_time": "2025-09-29T00:30:07.403387Z",
     "start_time": "2025-09-29T00:30:07.294279Z"
    }
   },
   "cell_type": "code",
   "source": [
    "# Select models based on their strengths for the task\n",
    "generator_llm = ChatOpenAI(model='gpt-4o-mini')\n",
    "evaluator_llm = ChatOpenAI(model='gpt-4o-mini')\n",
    "optimizer_llm = ChatOpenAI(model='gpt-4o-mini')"
   ],
   "id": "c58c405258d3aec",
   "outputs": [],
   "execution_count": 3
  },
  {
   "metadata": {
    "ExecuteTime": {
     "end_time": "2025-09-29T00:30:07.408755Z",
     "start_time": "2025-09-29T00:30:07.406896Z"
    }
   },
   "cell_type": "code",
   "source": [
    "# Create Schema for the feedback evaluation\n",
    "from pydantic import BaseModel, Field\n",
    "\n",
    "class TweetEvaluation(BaseModel):\n",
    "    evaluation: Literal[\"approved\", \"needs_improvement\"] = Field(..., description=\"Final evaluation result.\")\n",
    "    feedback: str = Field(..., description=\"feedback for the tweet.\")"
   ],
   "id": "1c49ac086cac983d",
   "outputs": [],
   "execution_count": 4
  },
  {
   "metadata": {
    "ExecuteTime": {
     "end_time": "2025-09-29T00:30:07.414111Z",
     "start_time": "2025-09-29T00:30:07.412364Z"
    }
   },
   "cell_type": "code",
   "source": [
    "# Use the schema to create the evaluator with structured output\n",
    "structured_evaluator_llm = evaluator_llm.with_structured_output(TweetEvaluation)"
   ],
   "id": "66fcb0457a78e605",
   "outputs": [],
   "execution_count": 5
  },
  {
   "metadata": {
    "ExecuteTime": {
     "end_time": "2025-09-29T00:30:07.418430Z",
     "start_time": "2025-09-29T00:30:07.416834Z"
    }
   },
   "cell_type": "code",
   "source": [
    "# Define state, add fields to avoid too many iterations and preserve the history of feedback and improvements made.\n",
    "class PostState(TypedDict):\n",
    "\n",
    "    topic: str\n",
    "    post: str\n",
    "    evaluation: Literal[\"approved\", \"needs_improvement\"]\n",
    "    feedback: str\n",
    "    iteration: int\n",
    "    max_iteration: int\n",
    "\n",
    "    post_history: Annotated[list[str], operator.add]\n",
    "    feedback_history: Annotated[list[str], operator.add]"
   ],
   "id": "cdbd82afb42d2c70",
   "outputs": [],
   "execution_count": 6
  },
  {
   "metadata": {
    "ExecuteTime": {
     "end_time": "2025-09-29T00:30:07.422513Z",
     "start_time": "2025-09-29T00:30:07.421015Z"
    }
   },
   "cell_type": "code",
   "source": [
    "def generate_post(state: PostState):\n",
    "\n",
    "    # prompt\n",
    "    messages = [\n",
    "        SystemMessage(content=\"You are a funny and clever social media influencer.\"),\n",
    "        HumanMessage(content=f\"\"\"\n",
    "Write a short, original, witty post on the topic: \"{state['topic']}\".\n",
    "\n",
    "Rules:\n",
    "- Do NOT use question-answer format.\n",
    "- Max 200 characters.\n",
    "- Use observational humor, irony, sarcasm, or cultural references.\n",
    "- Think in meme logic, punchlines, or relatable takes.\n",
    "- Use simple, day to day english\n",
    "\"\"\")\n",
    "    ]\n",
    "\n",
    "    # send generator_llm\n",
    "    response = generator_llm.invoke(messages).content\n",
    "\n",
    "    # return response\n",
    "    return {'post': response, 'post_history': [response]}"
   ],
   "id": "945f190db30540aa",
   "outputs": [],
   "execution_count": 7
  }
 ],
 "metadata": {
  "kernelspec": {
   "display_name": "Python 3",
   "language": "python",
   "name": "python3"
  },
  "language_info": {
   "codemirror_mode": {
    "name": "ipython",
    "version": 2
   },
   "file_extension": ".py",
   "mimetype": "text/x-python",
   "name": "python",
   "nbconvert_exporter": "python",
   "pygments_lexer": "ipython2",
   "version": "2.7.6"
  }
 },
 "nbformat": 4,
 "nbformat_minor": 5
}
