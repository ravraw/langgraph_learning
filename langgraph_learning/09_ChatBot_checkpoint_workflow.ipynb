{
 "cells": [
  {
   "cell_type": "code",
   "id": "initial_id",
   "metadata": {
    "collapsed": true,
    "ExecuteTime": {
     "end_time": "2025-09-30T22:37:44.210922Z",
     "start_time": "2025-09-30T22:37:43.812241Z"
    }
   },
   "source": [
    "from operator import truediv\n",
    "\n",
    "from anyio.lowlevel import checkpoint\n",
    "from langgraph.graph import StateGraph, START, END\n",
    "from typing import TypedDict, Annotated\n",
    "from langchain_core.messages import BaseMessage, HumanMessage\n",
    "from dotenv import load_dotenv\n",
    "from langchain_openai import ChatOpenAI\n",
    "from langgraph.checkpoint.memory import MemorySaver"
   ],
   "outputs": [],
   "execution_count": 1
  },
  {
   "metadata": {
    "ExecuteTime": {
     "end_time": "2025-09-30T22:37:44.218622Z",
     "start_time": "2025-09-30T22:37:44.215702Z"
    }
   },
   "cell_type": "code",
   "source": "load_dotenv()",
   "id": "accba521ec31722e",
   "outputs": [
    {
     "data": {
      "text/plain": [
       "True"
      ]
     },
     "execution_count": 2,
     "metadata": {},
     "output_type": "execute_result"
    }
   ],
   "execution_count": 2
  },
  {
   "metadata": {
    "ExecuteTime": {
     "end_time": "2025-09-30T22:37:44.236118Z",
     "start_time": "2025-09-30T22:37:44.234535Z"
    }
   },
   "cell_type": "code",
   "source": [
    "from langgraph.graph.message import add_messages\n",
    "\n",
    "class ChatState(TypedDict):\n",
    "\n",
    "    messages: Annotated[list[BaseMessage], add_messages]"
   ],
   "id": "d69696e2a5319f75",
   "outputs": [],
   "execution_count": 3
  },
  {
   "metadata": {
    "ExecuteTime": {
     "end_time": "2025-09-30T22:37:44.384135Z",
     "start_time": "2025-09-30T22:37:44.242525Z"
    }
   },
   "cell_type": "code",
   "source": [
    "llm = ChatOpenAI()\n",
    "\n",
    "\n",
    "def chat_node(state: ChatState):\n",
    "\n",
    "    # take user query from state\n",
    "    messages = state['messages']\n",
    "\n",
    "    # send to llm\n",
    "    response = llm.invoke(messages)\n",
    "\n",
    "    # response store state\n",
    "    return {'messages': [response]}"
   ],
   "id": "7d9f18fca4ad2680",
   "outputs": [],
   "execution_count": 4
  },
  {
   "metadata": {
    "ExecuteTime": {
     "end_time": "2025-09-30T22:37:44.393480Z",
     "start_time": "2025-09-30T22:37:44.391347Z"
    }
   },
   "cell_type": "code",
   "source": [
    "checkpointer = MemorySaver()\n",
    "\n",
    "graph = StateGraph(ChatState)\n",
    "\n",
    "# add nodes\n",
    "graph.add_node('chat_node', chat_node)\n",
    "\n",
    "graph.add_edge(START, 'chat_node')\n",
    "graph.add_edge('chat_node', END)\n",
    "\n",
    "chatbot = graph.compile(checkpointer=checkpointer)"
   ],
   "id": "1ee09055b8597725",
   "outputs": [],
   "execution_count": 5
  },
  {
   "metadata": {
    "ExecuteTime": {
     "end_time": "2025-09-30T22:37:45.138339Z",
     "start_time": "2025-09-30T22:37:44.396396Z"
    }
   },
   "cell_type": "code",
   "source": "chatbot",
   "id": "1a558e9a301a9873",
   "outputs": [
    {
     "data": {
      "text/plain": [
       "<langgraph.graph.state.CompiledStateGraph object at 0x113745a90>"
      ],
      "image/png": "[encoded data removed]"
     },
     "execution_count": 6,
     "metadata": {},
     "output_type": "execute_result"
    }
   ],
   "execution_count": 6
  },
  {
   "metadata": {
    "ExecuteTime": {
     "end_time": "2025-09-30T22:37:45.149187Z",
     "start_time": "2025-09-30T22:37:45.147461Z"
    }
   },
   "cell_type": "code",
   "source": [
    "initial_state = {\n",
    "    'messages': [HumanMessage(content='What is the capital of india')]\n",
    "}"
   ],
   "id": "8f9d3032fc1b34b9",
   "outputs": [],
   "execution_count": 7
  },
  {
   "metadata": {
    "ExecuteTime": {
     "end_time": "2025-09-30T22:39:32.893076Z",
     "start_time": "2025-09-30T22:37:45.153070Z"
    }
   },
   "cell_type": "code",
   "source": [
    "thread_id = '1'\n",
    "\n",
    "while True:\n",
    "    user_message = input('Type a message: ')\n",
    "    print('user message:', user_message)\n",
    "\n",
    "    if user_message.strip().lower() in ['exit', 'quit', 'bye']:\n",
    "        break\n",
    "\n",
    "    config = {'configurable': {'thread_id': thread_id}}\n",
    "    response = chatbot.invoke({'messages': [HumanMessage(content=user_message)]}, config=config)\n",
    "    print('AI:', response['messages'][-1].content)"
   ],
   "id": "d4e025ff95332b9",
   "outputs": [
    {
     "name": "stdout",
     "output_type": "stream",
     "text": [
      "user message: Hi my name is Ravi, whats yours?\n",
      "AI: Hello Ravi, I am an AI digital assistant. How can I assist you today?\n",
      "user message: Sure , can you generate pictures ?\n",
      "AI: I can't generate pictures, but I can provide you with links to websites where you can find free images or help you with any other questions you have. Let me know how I can assist you!\n",
      "user message: What is my name ?\n",
      "\n",
      "AI: Your name is Ravi.\n",
      "user message: what 2 plus 2 ?\n",
      "AI: 2 + 2 equals 4.\n",
      "user message: multiply the result with 4 now \n",
      "AI: Sure, the result of 2 + 2 is 4. Multiplying 4 by 4 gives us 16.\n",
      "user message: exit\n"
     ]
    }
   ],
   "execution_count": 8
  },
  {
   "metadata": {
    "ExecuteTime": {
     "end_time": "2025-09-30T22:39:32.959055Z",
     "start_time": "2025-09-30T22:39:32.956540Z"
    }
   },
   "cell_type": "code",
   "source": "    chatbot.get_state(config=config)",
   "id": "21f3a0d9f6016dbb",
   "outputs": [
    {
     "data": {
      "text/plain": [
       "StateSnapshot(values={'messages': [HumanMessage(content='Hi my name is Ravi, whats yours?', additional_kwargs={}, response_metadata={}, id='dba50815-dc4f-43c8-9976-c56ed959939b'), AIMessage(content='Hello Ravi, I am an AI digital assistant. How can I assist you today?', additional_kwargs={'refusal': None}, response_metadata={'token_usage': {'completion_tokens': 18, 'prompt_tokens': 17, 'total_tokens': 35, 'completion_tokens_details': {'accepted_prediction_tokens': 0, 'audio_tokens': 0, 'reasoning_tokens': 0, 'rejected_prediction_tokens': 0}, 'prompt_tokens_details': {'audio_tokens': 0, 'cached_tokens': 0}}, 'model_name': 'gpt-3.5-turbo-0125', 'system_fingerprint': None, 'id': 'chatcmpl-CLdGuYv8U1kSasuQoMqAKU5R5UqUo', 'service_tier': 'default', 'finish_reason': 'stop', 'logprobs': None}, id='run--fd6c5e84-4e93-40b1-9502-0fce172d3782-0', usage_metadata={'input_tokens': 17, 'output_tokens': 18, 'total_tokens': 35, 'input_token_details': {'audio': 0, 'cache_read': 0}, 'output_token_details': {'audio': 0, 'reasoning': 0}}), HumanMessage(content='Sure , can you generate pictures ?', additional_kwargs={}, response_metadata={}, id='d11f50d5-8b9d-495c-9674-02909a598cad'), AIMessage(content=\"I can't generate pictures, but I can provide you with links to websites where you can find free images or help you with any other questions you have. Let me know how I can assist you!\", additional_kwargs={'refusal': None}, response_metadata={'token_usage': {'completion_tokens': 40, 'prompt_tokens': 50, 'total_tokens': 90, 'completion_tokens_details': {'accepted_prediction_tokens': 0, 'audio_tokens': 0, 'reasoning_tokens': 0, 'rejected_prediction_tokens': 0}, 'prompt_tokens_details': {'audio_tokens': 0, 'cached_tokens': 0}}, 'model_name': 'gpt-3.5-turbo-0125', 'system_fingerprint': None, 'id': 'chatcmpl-CLdHHQ6eg84B2kCoYVrM0ei2k7Y2H', 'service_tier': 'default', 'finish_reason': 'stop', 'logprobs': None}, id='run--9205606c-8185-4ccd-9a71-f2567681b61f-0', usage_metadata={'input_tokens': 50, 'output_tokens': 40, 'total_tokens': 90, 'input_token_details': {'audio': 0, 'cache_read': 0}, 'output_token_details': {'audio': 0, 'reasoning': 0}}), HumanMessage(content='What is my name ?\\n', additional_kwargs={}, response_metadata={}, id='3b4c3e9a-26e0-4a24-b425-b23b62ea11e2'), AIMessage(content='Your name is Ravi.', additional_kwargs={'refusal': None}, response_metadata={'token_usage': {'completion_tokens': 6, 'prompt_tokens': 103, 'total_tokens': 109, 'completion_tokens_details': {'accepted_prediction_tokens': 0, 'audio_tokens': 0, 'reasoning_tokens': 0, 'rejected_prediction_tokens': 0}, 'prompt_tokens_details': {'audio_tokens': 0, 'cached_tokens': 0}}, 'model_name': 'gpt-3.5-turbo-0125', 'system_fingerprint': None, 'id': 'chatcmpl-CLdHdG0OUp8w3zkNiScW0p0K1UziK', 'service_tier': 'default', 'finish_reason': 'stop', 'logprobs': None}, id='run--4e1363ea-0aaa-4ee5-9d46-760dd9f9f067-0', usage_metadata={'input_tokens': 103, 'output_tokens': 6, 'total_tokens': 109, 'input_token_details': {'audio': 0, 'cache_read': 0}, 'output_token_details': {'audio': 0, 'reasoning': 0}}), HumanMessage(content='what 2 plus 2 ?', additional_kwargs={}, response_metadata={}, id='c4205907-a98d-4bbf-aea2-28274640c66f'), AIMessage(content='2 + 2 equals 4.', additional_kwargs={'refusal': None}, response_metadata={'token_usage': {'completion_tokens': 8, 'prompt_tokens': 124, 'total_tokens': 132, 'completion_tokens_details': {'accepted_prediction_tokens': 0, 'audio_tokens': 0, 'reasoning_tokens': 0, 'rejected_prediction_tokens': 0}, 'prompt_tokens_details': {'audio_tokens': 0, 'cached_tokens': 0}}, 'model_name': 'gpt-3.5-turbo-0125', 'system_fingerprint': None, 'id': 'chatcmpl-CLdHrQZyfIX90tXOFwiqUDK9176Jh', 'service_tier': 'default', 'finish_reason': 'stop', 'logprobs': None}, id='run--126ecea7-8e78-4c24-aee8-872579b1f0d4-0', usage_metadata={'input_tokens': 124, 'output_tokens': 8, 'total_tokens': 132, 'input_token_details': {'audio': 0, 'cache_read': 0}, 'output_token_details': {'audio': 0, 'reasoning': 0}}), HumanMessage(content='multiply the result with 4 now ', additional_kwargs={}, response_metadata={}, id='03c441e2-30fc-4e7a-b733-c2c1153d4f36'), AIMessage(content='Sure, the result of 2 + 2 is 4. Multiplying 4 by 4 gives us 16.', additional_kwargs={'refusal': None}, response_metadata={'token_usage': {'completion_tokens': 26, 'prompt_tokens': 148, 'total_tokens': 174, 'completion_tokens_details': {'accepted_prediction_tokens': 0, 'audio_tokens': 0, 'reasoning_tokens': 0, 'rejected_prediction_tokens': 0}, 'prompt_tokens_details': {'audio_tokens': 0, 'cached_tokens': 0}}, 'model_name': 'gpt-3.5-turbo-0125', 'system_fingerprint': None, 'id': 'chatcmpl-CLdIBetltucS4VmDK8RK6PxiZEt4V', 'service_tier': 'default', 'finish_reason': 'stop', 'logprobs': None}, id='run--46cf4344-0181-451d-bbd2-721cf1cd61b1-0', usage_metadata={'input_tokens': 148, 'output_tokens': 26, 'total_tokens': 174, 'input_token_details': {'audio': 0, 'cache_read': 0}, 'output_token_details': {'audio': 0, 'reasoning': 0}})]}, next=(), config={'configurable': {'thread_id': '1', 'checkpoint_ns': '', 'checkpoint_id': '1f09e4e5-02b1-6928-800d-20acc0c1275a'}}, metadata={'source': 'loop', 'step': 13, 'parents': {}}, created_at='2025-09-30T22:39:23.812446+00:00', parent_config={'configurable': {'thread_id': '1', 'checkpoint_ns': '', 'checkpoint_id': '1f09e4e4-f64e-656e-800c-f057b82f1d1d'}}, tasks=(), interrupts=())"
      ]
     },
     "execution_count": 9,
     "metadata": {},
     "output_type": "execute_result"
    }
   ],
   "execution_count": 9
  }
 ],
 "metadata": {
  "kernelspec": {
   "display_name": "Python 3",
   "language": "python",
   "name": "python3"
  },
  "language_info": {
   "codemirror_mode": {
    "name": "ipython",
    "version": 2
   },
   "file_extension": ".py",
   "mimetype": "text/x-python",
   "name": "python",
   "nbconvert_exporter": "python",
   "pygments_lexer": "ipython2",
   "version": "2.7.6"
  }
 },
 "nbformat": 4,
 "nbformat_minor": 5
}
