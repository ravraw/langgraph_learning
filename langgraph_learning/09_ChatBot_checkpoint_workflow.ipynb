{
 "cells": [
  {
   "cell_type": "code",
   "id": "initial_id",
   "metadata": {
    "collapsed": true,
    "ExecuteTime": {
     "end_time": "2025-09-29T14:58:34.926140Z",
     "start_time": "2025-09-29T14:58:34.921981Z"
    }
   },
   "source": [
    "from operator import truediv\n",
    "\n",
    "from anyio.lowlevel import checkpoint\n",
    "from langgraph.graph import StateGraph, START, END\n",
    "from typing import TypedDict, Annotated\n",
    "from langchain_core.messages import BaseMessage, HumanMessage\n",
    "from dotenv import load_dotenv\n",
    "from langchain_openai import ChatOpenAI\n",
    "from langgraph.checkpoint.memory import MemorySaver"
   ],
   "outputs": [],
   "execution_count": 57
  },
  {
   "metadata": {
    "ExecuteTime": {
     "end_time": "2025-09-29T14:58:34.942973Z",
     "start_time": "2025-09-29T14:58:34.939795Z"
    }
   },
   "cell_type": "code",
   "source": "load_dotenv()",
   "id": "accba521ec31722e",
   "outputs": [
    {
     "data": {
      "text/plain": [
       "True"
      ]
     },
     "execution_count": 58,
     "metadata": {},
     "output_type": "execute_result"
    }
   ],
   "execution_count": 58
  },
  {
   "metadata": {
    "ExecuteTime": {
     "end_time": "2025-09-29T14:58:34.948052Z",
     "start_time": "2025-09-29T14:58:34.946195Z"
    }
   },
   "cell_type": "code",
   "source": [
    "from langgraph.graph.message import add_messages\n",
    "\n",
    "class ChatState(TypedDict):\n",
    "\n",
    "    messages: Annotated[list[BaseMessage], add_messages]"
   ],
   "id": "d69696e2a5319f75",
   "outputs": [],
   "execution_count": 59
  },
  {
   "metadata": {
    "ExecuteTime": {
     "end_time": "2025-09-29T14:58:34.954198Z",
     "start_time": "2025-09-29T14:58:34.952182Z"
    }
   },
   "cell_type": "code",
   "source": [
    "llm = ChatOpenAI()\n",
    "\n",
    "\n",
    "def chat_node(state: ChatState):\n",
    "\n",
    "    # take user query from state\n",
    "    messages = state['messages']\n",
    "\n",
    "    # send to llm\n",
    "    response = llm.invoke(messages)\n",
    "\n",
    "    # response store state\n",
    "    return {'messages': [response]}"
   ],
   "id": "7d9f18fca4ad2680",
   "outputs": [],
   "execution_count": 60
  },
  {
   "metadata": {
    "ExecuteTime": {
     "end_time": "2025-09-29T14:58:34.958765Z",
     "start_time": "2025-09-29T14:58:34.956387Z"
    }
   },
   "cell_type": "code",
   "source": [
    "checkpointer = MemorySaver()\n",
    "\n",
    "graph = StateGraph(ChatState)\n",
    "\n",
    "# add nodes\n",
    "graph.add_node('chat_node', chat_node)\n",
    "\n",
    "graph.add_edge(START, 'chat_node')\n",
    "graph.add_edge('chat_node', END)\n",
    "\n",
    "chatbot = graph.compile(checkpointer=checkpointer)"
   ],
   "id": "1ee09055b8597725",
   "outputs": [],
   "execution_count": 61
  },
  {
   "metadata": {
    "ExecuteTime": {
     "end_time": "2025-09-29T14:58:35.365052Z",
     "start_time": "2025-09-29T14:58:34.960954Z"
    }
   },
   "cell_type": "code",
   "source": "chatbot",
   "id": "1a558e9a301a9873",
   "outputs": [
    {
     "data": {
      "text/plain": [
       "<langgraph.graph.state.CompiledStateGraph object at 0x10ac8ecf0>"
      ],
      "image/png": "[encoded data removed]"
     },
     "execution_count": 62,
     "metadata": {},
     "output_type": "execute_result"
    }
   ],
   "execution_count": 62
  },
  {
   "metadata": {
    "ExecuteTime": {
     "end_time": "2025-09-29T14:58:35.373195Z",
     "start_time": "2025-09-29T14:58:35.371751Z"
    }
   },
   "cell_type": "code",
   "source": [
    "initial_state = {\n",
    "    'messages': [HumanMessage(content='What is the capital of india')]\n",
    "}"
   ],
   "id": "8f9d3032fc1b34b9",
   "outputs": [],
   "execution_count": 63
  },
  {
   "metadata": {
    "ExecuteTime": {
     "end_time": "2025-09-29T14:59:23.039673Z",
     "start_time": "2025-09-29T14:58:35.375132Z"
    }
   },
   "cell_type": "code",
   "source": [
    "thread_id = '1'\n",
    "\n",
    "while True:\n",
    "    user_message = input('Type a message: ')\n",
    "    print('user message:', user_message)\n",
    "\n",
    "    if user_message.strip().lower() in ['exit', 'quit', 'bye']:\n",
    "        break\n",
    "\n",
    "    config = {'configurable': {'thread_id': thread_id}}\n",
    "    response = chatbot.invoke({'messages': [HumanMessage(content=user_message)]}, config=config)\n",
    "    print('AI:', response['messages'][-1].content)"
   ],
   "id": "d4e025ff95332b9",
   "outputs": [
    {
     "name": "stdout",
     "output_type": "stream",
     "text": [
      "user message: Hi my name is Ravi, whats your name?\n",
      "AI: Hello Ravi, I am an AI assistant. How can I assist you today?\n",
      "user message: AI assistant please tell me my name\n",
      "AI: Your name is Ravi.\n",
      "user message: exit\n"
     ]
    }
   ],
   "execution_count": 64
  }
 ],
 "metadata": {
  "kernelspec": {
   "display_name": "Python 3",
   "language": "python",
   "name": "python3"
  },
  "language_info": {
   "codemirror_mode": {
    "name": "ipython",
    "version": 2
   },
   "file_extension": ".py",
   "mimetype": "text/x-python",
   "name": "python",
   "nbconvert_exporter": "python",
   "pygments_lexer": "ipython2",
   "version": "2.7.6"
  }
 },
 "nbformat": 4,
 "nbformat_minor": 5
}
