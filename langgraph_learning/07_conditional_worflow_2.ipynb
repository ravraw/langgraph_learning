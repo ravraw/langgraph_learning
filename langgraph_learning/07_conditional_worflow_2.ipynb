{
 "cells": [
  {
   "metadata": {
    "collapsed": true
   },
   "cell_type": "markdown",
   "source": "## Customer Review Analysis",
   "id": "7d9f7ddb4717429c"
  },
  {
   "metadata": {
    "ExecuteTime": {
     "end_time": "2025-09-28T00:13:03.739884Z",
     "start_time": "2025-09-28T00:13:03.735705Z"
    }
   },
   "cell_type": "code",
   "source": [
    "from langgraph.graph import StateGraph, START, END\n",
    "from langchain_openai import ChatOpenAI\n",
    "from typing import TypedDict, Literal\n",
    "from dotenv import load_dotenv\n",
    "from pydantic import BaseModel, Field"
   ],
   "id": "e46c653c12426e4b",
   "outputs": [],
   "execution_count": 15
  },
  {
   "metadata": {
    "ExecuteTime": {
     "end_time": "2025-09-28T00:13:03.757504Z",
     "start_time": "2025-09-28T00:13:03.753828Z"
    }
   },
   "cell_type": "code",
   "source": "load_dotenv()",
   "id": "a43f42fa452c189e",
   "outputs": [
    {
     "data": {
      "text/plain": [
       "True"
      ]
     },
     "execution_count": 16,
     "metadata": {},
     "output_type": "execute_result"
    }
   ],
   "execution_count": 16
  },
  {
   "metadata": {
    "ExecuteTime": {
     "end_time": "2025-09-28T00:13:03.764321Z",
     "start_time": "2025-09-28T00:13:03.762385Z"
    }
   },
   "cell_type": "code",
   "source": "model = ChatOpenAI(model='gpt-4o-mini')",
   "id": "385f29cb21519851",
   "outputs": [],
   "execution_count": 17
  },
  {
   "metadata": {
    "ExecuteTime": {
     "end_time": "2025-09-28T00:13:03.770973Z",
     "start_time": "2025-09-28T00:13:03.768746Z"
    }
   },
   "cell_type": "code",
   "source": [
    "class SentimentSchema(BaseModel):\n",
    "\n",
    "    sentiment: Literal[\"positive\", \"negative\"] = Field(description='Sentiment of the review')"
   ],
   "id": "33a40481d7cdde48",
   "outputs": [],
   "execution_count": 18
  },
  {
   "metadata": {
    "ExecuteTime": {
     "end_time": "2025-09-28T00:13:03.775675Z",
     "start_time": "2025-09-28T00:13:03.773375Z"
    }
   },
   "cell_type": "code",
   "source": [
    "class DiagnosisSchema(BaseModel):\n",
    "    issue_type: Literal[\"UX\", \"Performance\", \"Bug\", \"Support\", \"Other\"] = Field(description='The category of issue mentioned in the review')\n",
    "    tone: Literal[\"angry\", \"frustrated\", \"disappointed\", \"calm\"] = Field(description='The emotional tone expressed by the user')\n",
    "    urgency: Literal[\"low\", \"medium\", \"high\"] = Field(description='How urgent or critical the issue appears to be')"
   ],
   "id": "c1414ffe91ebcea8",
   "outputs": [],
   "execution_count": 19
  },
  {
   "metadata": {
    "ExecuteTime": {
     "end_time": "2025-09-28T00:13:03.779706Z",
     "start_time": "2025-09-28T00:13:03.777721Z"
    }
   },
   "cell_type": "code",
   "source": [
    "structured_model = model.with_structured_output(SentimentSchema)\n",
    "structured_model2 = model.with_structured_output(DiagnosisSchema)"
   ],
   "id": "48165f0ec18cb83b",
   "outputs": [],
   "execution_count": 20
  },
  {
   "metadata": {
    "ExecuteTime": {
     "end_time": "2025-09-28T00:13:05.365654Z",
     "start_time": "2025-09-28T00:13:03.783032Z"
    }
   },
   "cell_type": "code",
   "source": [
    "prompt = 'What is the sentiment of the following review - The software too good'\n",
    "structured_model.invoke(prompt).sentiment"
   ],
   "id": "bef03486b55e69ce",
   "outputs": [
    {
     "data": {
      "text/plain": [
       "'positive'"
      ]
     },
     "execution_count": 21,
     "metadata": {},
     "output_type": "execute_result"
    }
   ],
   "execution_count": 21
  },
  {
   "metadata": {
    "ExecuteTime": {
     "end_time": "2025-09-28T00:13:05.373036Z",
     "start_time": "2025-09-28T00:13:05.370748Z"
    }
   },
   "cell_type": "code",
   "source": [
    "class ReviewState(TypedDict):\n",
    "\n",
    "    review: str\n",
    "    sentiment: Literal[\"positive\", \"negative\"]\n",
    "    diagnosis: dict\n",
    "    response: str"
   ],
   "id": "ef65012adf0bd2f3",
   "outputs": [],
   "execution_count": 22
  },
  {
   "metadata": {
    "ExecuteTime": {
     "end_time": "2025-09-28T00:13:05.384958Z",
     "start_time": "2025-09-28T00:13:05.381429Z"
    }
   },
   "cell_type": "code",
   "source": [
    "def find_sentiment(state: ReviewState):\n",
    "\n",
    "    prompt = f'For the following review find out the sentiment \\n {state[\"review\"]}'\n",
    "    sentiment = structured_model.invoke(prompt).sentiment\n",
    "\n",
    "    return {'sentiment': sentiment}\n",
    "\n",
    "def check_sentiment(state: ReviewState) -> Literal[\"positive_response\", \"run_diagnosis\"]:\n",
    "\n",
    "    if state['sentiment'] == 'positive':\n",
    "        return 'positive_response'\n",
    "    else:\n",
    "        return 'run_diagnosis'\n",
    "\n",
    "def positive_response(state: ReviewState):\n",
    "\n",
    "    prompt = f\"\"\"Write a warm thank-you message in response to this review:\n",
    "    \\n\\n\\\"{state['review']}\\\"\\n\n",
    "Also, kindly ask the user to leave feedback on our website.\"\"\"\n",
    "\n",
    "    response = model.invoke(prompt).content\n",
    "\n",
    "    return {'response': response}\n",
    "\n",
    "def run_diagnosis(state: ReviewState):\n",
    "\n",
    "    prompt = f\"\"\"Diagnose this negative review:\\n\\n{state['review']}\\n\"\n",
    "    \"Return issue_type, tone, and urgency.\n",
    "\"\"\"\n",
    "    response = structured_model2.invoke(prompt)\n",
    "\n",
    "    return {'diagnosis': response.model_dump()}\n",
    "\n",
    "def negative_response(state: ReviewState):\n",
    "\n",
    "    diagnosis = state['diagnosis']\n",
    "\n",
    "    prompt = f\"\"\"You are a support assistant.\n",
    "The user had a '{diagnosis['issue_type']}' issue, sounded '{diagnosis['tone']}', and marked urgency as '{diagnosis['urgency']}'.\n",
    "Write an empathetic, helpful resolution message.\n",
    "\"\"\"\n",
    "    response = model.invoke(prompt).content\n",
    "\n",
    "    return {'response': response}"
   ],
   "id": "21f80fd65275607",
   "outputs": [],
   "execution_count": 23
  },
  {
   "metadata": {
    "ExecuteTime": {
     "end_time": "2025-09-28T00:13:05.391744Z",
     "start_time": "2025-09-28T00:13:05.387856Z"
    }
   },
   "cell_type": "code",
   "source": [
    "graph = StateGraph(ReviewState)\n",
    "\n",
    "graph.add_node('find_sentiment', find_sentiment)\n",
    "graph.add_node('positive_response', positive_response)\n",
    "graph.add_node('run_diagnosis', run_diagnosis)\n",
    "graph.add_node('negative_response', negative_response)\n",
    "\n",
    "graph.add_edge(START, 'find_sentiment')\n",
    "\n",
    "graph.add_conditional_edges('find_sentiment', check_sentiment)\n",
    "\n",
    "graph.add_edge('positive_response', END)\n",
    "\n",
    "graph.add_edge('run_diagnosis', 'negative_response')\n",
    "graph.add_edge('negative_response', END)\n",
    "\n",
    "workflow = graph.compile()"
   ],
   "id": "dd67c3bf87db65d9",
   "outputs": [],
   "execution_count": 24
  },
  {
   "metadata": {
    "ExecuteTime": {
     "end_time": "2025-09-28T00:13:05.397127Z",
     "start_time": "2025-09-28T00:13:05.395730Z"
    }
   },
   "cell_type": "code",
   "source": [
    "#workflow\n",
    "# from IPython.display import Image\n",
    "# Image(workflow.get_graph().draw_mermaid_png())"
   ],
   "id": "7dfcb34b00178bd",
   "outputs": [],
   "execution_count": 25
  },
  {
   "metadata": {
    "ExecuteTime": {
     "end_time": "2025-09-28T00:14:34.455773Z",
     "start_time": "2025-09-28T00:14:28.582432Z"
    }
   },
   "cell_type": "code",
   "source": [
    "intial_state={\n",
    "    'review': \"I’ve been trying to log in for over an hour now, and the app keeps freezing on the authentication screen. I even tried reinstalling it, but no luck. This kind of bug is unacceptable, especially when it affects basic functionality.\"\n",
    "}\n",
    "workflow.invoke(intial_state)"
   ],
   "id": "df23a3c5bb5dd957",
   "outputs": [
    {
     "data": {
      "text/plain": [
       "{'review': 'I’ve been trying to log in for over an hour now, and the app keeps freezing on the authentication screen. I even tried reinstalling it, but no luck. This kind of bug is unacceptable, especially when it affects basic functionality.',\n",
       " 'sentiment': 'negative',\n",
       " 'diagnosis': {'issue_type': 'Bug', 'tone': 'frustrated', 'urgency': 'high'},\n",
       " 'response': \"Subject: We're Here to Help Resolve the Bug Issue\\n\\nHi [User's Name],\\n\\nI truly understand how frustrating it can be to encounter a bug, especially when you're trying to get things done. I appreciate your patience and urgency in bringing this to our attention.\\n\\nTo assist you better, could you please provide a bit more detail about the issue you're experiencing? Specific information such as error messages, steps you took before the bug occurred, or screenshots would be incredibly helpful. This will enable us to get to the root of the problem more quickly.\\n\\nIn the meantime, you might try restarting your device or clearing the application cache, as this has resolved similar issues for other users. \\n\\nThank you for your understanding, and I’m committed to helping you resolve this as swiftly as possible. Looking forward to hearing from you soon!\\n\\nBest regards,\\n\\n[Your Name]  \\n[Your Position]  \\n[Your Contact Information]  \"}"
      ]
     },
     "execution_count": 26,
     "metadata": {},
     "output_type": "execute_result"
    }
   ],
   "execution_count": 26
  }
 ],
 "metadata": {
  "kernelspec": {
   "display_name": "Python 3",
   "language": "python",
   "name": "python3"
  },
  "language_info": {
   "codemirror_mode": {
    "name": "ipython",
    "version": 2
   },
   "file_extension": ".py",
   "mimetype": "text/x-python",
   "name": "python",
   "nbconvert_exporter": "python",
   "pygments_lexer": "ipython2",
   "version": "2.7.6"
  }
 },
 "nbformat": 4,
 "nbformat_minor": 5
}
