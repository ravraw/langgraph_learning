{
 "cells": [
  {
   "metadata": {},
   "cell_type": "markdown",
   "source": "## Essay Evaluator",
   "id": "93ad1703ab520c5e"
  },
  {
   "metadata": {
    "collapsed": true,
    "ExecuteTime": {
     "end_time": "2025-09-27T16:48:16.596568Z",
     "start_time": "2025-09-27T16:48:16.201010Z"
    }
   },
   "cell_type": "code",
   "source": [
    "from langgraph.graph import StateGraph, START, END\n",
    "from langchain_openai import ChatOpenAI\n",
    "from dotenv import load_dotenv\n",
    "from typing import TypedDict, Annotated\n",
    "from pydantic import BaseModel, Field\n",
    "import operator"
   ],
   "id": "d75ea929a0d30f7c",
   "outputs": [],
   "execution_count": 1
  },
  {
   "metadata": {
    "ExecuteTime": {
     "end_time": "2025-09-27T16:48:16.602314Z",
     "start_time": "2025-09-27T16:48:16.599405Z"
    }
   },
   "cell_type": "code",
   "source": "load_dotenv()",
   "id": "6bbecc0caa875262",
   "outputs": [
    {
     "data": {
      "text/plain": [
       "True"
      ]
     },
     "execution_count": 2,
     "metadata": {},
     "output_type": "execute_result"
    }
   ],
   "execution_count": 2
  },
  {
   "metadata": {
    "ExecuteTime": {
     "end_time": "2025-09-27T16:48:16.751799Z",
     "start_time": "2025-09-27T16:48:16.614667Z"
    }
   },
   "cell_type": "code",
   "source": "model = ChatOpenAI(model='gpt-4o-mini')",
   "id": "abc1b8a675394d46",
   "outputs": [],
   "execution_count": 3
  },
  {
   "metadata": {
    "ExecuteTime": {
     "end_time": "2025-09-27T16:48:16.757337Z",
     "start_time": "2025-09-27T16:48:16.755560Z"
    }
   },
   "cell_type": "code",
   "source": [
    "class EvaluationSchema(BaseModel):\n",
    "\n",
    "    feedback: str = Field(description='Detailed feedback for the essay')\n",
    "    score: int = Field(description='Score out of 10', ge=0, le=10)"
   ],
   "id": "1ccbeefdfac17f89",
   "outputs": [],
   "execution_count": 4
  },
  {
   "metadata": {
    "ExecuteTime": {
     "end_time": "2025-09-27T16:48:16.762870Z",
     "start_time": "2025-09-27T16:48:16.760977Z"
    }
   },
   "cell_type": "code",
   "source": "structured_model = model.with_structured_output(EvaluationSchema)",
   "id": "d25d60c35e54acad",
   "outputs": [],
   "execution_count": 5
  },
  {
   "metadata": {
    "ExecuteTime": {
     "end_time": "2025-09-27T16:52:01.013675Z",
     "start_time": "2025-09-27T16:52:01.010127Z"
    }
   },
   "cell_type": "code",
   "source": [
    "essay = \"\"\"Building Complex Agentic AI Workflows with LangGraph\n",
    "\n",
    "LangGraph, an extension of the LangChain ecosystem, introduces a powerful framework for constructing sophisticated, stateful AI workflows. By representing each computational step as a node within a directed graph, LangGraph enables the design of dynamic, multi-agent systems capable of handling complex decision-making processes.\n",
    "\n",
    "What Is LangGraph?\n",
    "\n",
    "LangGraph transforms traditional linear AI pipelines into flexible, graph-based architectures. Each node in the graph represents a distinct task—such as information retrieval, data processing, or decision-making—while the edges define the flow of information and control between these tasks. This structure allows for the creation of workflows where the sequence of operations can adapt based on conditions, enabling more intelligent and autonomous behavior.\n",
    "\n",
    "Core Features of LangGraph\n",
    "\n",
    "Stateful Execution: Nodes maintain their own state, allowing for persistent memory across the workflow.\n",
    "\n",
    "Dynamic Routing: Edges can be conditionally activated, facilitating complex branching logic.\n",
    "\n",
    "Modular Design: Workflows can be composed of reusable subgraphs, promoting scalability and maintainability.\n",
    "\n",
    "Multi-Agent Support: Multiple independent agents can be orchestrated within a single workflow, each with its own prompt, tools, and logic.\n",
    "\n",
    "Building Complex Agentic Workflows\n",
    "\n",
    "LangGraph's architecture is particularly suited for developing agentic AI systems, where multiple agents collaborate to achieve a common goal. Each agent operates autonomously, making decisions based on its inputs and the overall state of the system. This approach is ideal for tasks that require specialized knowledge, iterative reasoning, or human-in-the-loop interactions.\n",
    "\n",
    "Example: Multi-Agent Collaboration\n",
    "\n",
    "In a multi-agent setup, each agent can be tasked with a specific role, such as data extraction, analysis, or reporting. These agents communicate through shared states or messages, coordinating their efforts to produce a cohesive output. For instance, one agent might gather data from various sources, while another analyzes the data and a third generates a report. The orchestration of these agents ensures that each step is performed in the correct sequence and under appropriate conditions.\n",
    "\n",
    "Example: Agent Supervisor\n",
    "\n",
    "An agent supervisor acts as a central controller, managing the flow of tasks between multiple agents. It decides which agent to invoke based on the current state and the desired outcome. This setup is useful for workflows that require oversight or decision-making at a higher level, ensuring that the right resources are applied at the right time.\n",
    "\n",
    "Practical Applications\n",
    "\n",
    "LangGraph's capabilities make it suitable for a wide range of applications:\n",
    "\n",
    "Research Assistants: Agents that autonomously gather, analyze, and summarize information from various sources.\n",
    "\n",
    "Automated Reporting: Systems that generate reports by collecting data, performing analyses, and compiling findings into structured documents.\n",
    "\n",
    "Customer Support: AI agents that handle customer inquiries by retrieving relevant information, formulating responses, and escalating issues when necessary.\n",
    "\n",
    "Data Processing Pipelines: Workflows that process and transform data through a series of specialized agents, each performing a specific task.\n",
    "\n",
    "Getting Started with LangGraph\n",
    "\n",
    "To begin building workflows with LangGraph, you'll need to install the necessary packages:\n",
    "\n",
    "pip install langchain langgraph\n",
    "\n",
    "\n",
    "Once installed, you can start defining your agents and workflows using LangGraph's API, which provides tools for creating nodes, defining edges, and managing state transitions. The framework also offers visualization tools to help you design and debug your workflows effectively.\n",
    "\n",
    "Conclusion\n",
    "\n",
    "LangGraph empowers developers to construct complex, agent-based AI systems that are both flexible and scalable. By leveraging its graph-based architecture, you can create workflows that are not only intelligent and autonomous but also adaptable to changing conditions and requirements. Whether you're building a research assistant, an automated reporting system, or a customer support agent, LangGraph provides the tools necessary to bring your vision to life.\"\"\""
   ],
   "id": "15e48d2453b322ec",
   "outputs": [],
   "execution_count": 7
  },
  {
   "metadata": {
    "ExecuteTime": {
     "end_time": "2025-09-27T16:57:37.133647Z",
     "start_time": "2025-09-27T16:57:27.980862Z"
    }
   },
   "cell_type": "code",
   "source": [
    "# Prompt Testing\n",
    "prompt = f'Evaluate the language quality of the following essay and provide a feedback and assign a score out of 10 \\n {essay}'\n",
    "print(structured_model.invoke(prompt).feedback)\n",
    "print(structured_model.invoke(prompt).score)"
   ],
   "id": "a433cb2702d8ad71",
   "outputs": [
    {
     "name": "stdout",
     "output_type": "stream",
     "text": [
      "The essay is well-structured and presents a clear exposition of LangGraph's features and applications. The language used is technical yet accessible, making it suitable for an audience familiar with AI concepts. The introduction effectively sets the stage for the subsequent discussion, and the core features are clearly outlined. However, a few areas could be improved: \n",
      "\n",
      "1. **Technical Depth**: While the essay covers various aspects of LangGraph, some sections feel slightly superficial. Offering more specific examples or case studies could enhance understanding and engagement.\n",
      "2. **Transitions**: The flow between sections could be improved, especially when moving from core features to examples. Using clearer transitional phrases would help guide the reader.\n",
      "3. **Conciseness**: Some sentences could be more concise. For instance, breaking up long sentences or eliminating redundant phrases would improve readability.\n",
      "4. **Conclusion**: The conclusion summarizes the main points well but could be more compelling by reiterating the significance of LangGraph in advancing AI workflows in practical scenarios.\n",
      "\n",
      "Overall, the language quality is high, with good use of technical terminology and a straightforward writing style that maintains clarity. With minor adjustments to depth, transitions, and conciseness, this essay could be improved significantly.\n",
      "8\n"
     ]
    }
   ],
   "execution_count": 13
  },
  {
   "metadata": {},
   "cell_type": "code",
   "outputs": [],
   "execution_count": null,
   "source": [
    "class EssayState(TypedDict):\n",
    "    essay:str\n",
    "    language_feedback: str\n",
    "    analysis_feedback: str\n",
    "    clarity_feedback: str\n",
    "    overall_feedback: str\n",
    "    language_score: int\n",
    "    analysis_score: int\n",
    "    clarity_score: int\n",
    "    overall_score: int"
   ],
   "id": "48a22cee06003e72"
  }
 ],
 "metadata": {
  "kernelspec": {
   "display_name": "Python 3",
   "language": "python",
   "name": "python3"
  },
  "language_info": {
   "codemirror_mode": {
    "name": "ipython",
    "version": 2
   },
   "file_extension": ".py",
   "mimetype": "text/x-python",
   "name": "python",
   "nbconvert_exporter": "python",
   "pygments_lexer": "ipython2",
   "version": "2.7.6"
  }
 },
 "nbformat": 4,
 "nbformat_minor": 5
}
